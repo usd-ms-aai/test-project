{
 "cells": [
  {
   "cell_type": "markdown",
   "metadata": {},
   "source": [
    "# Assignment 4.1\n",
    "\n",
    "Name:  \n",
    "Date:"
   ]
  },
  {
   "cell_type": "markdown",
   "metadata": {},
   "source": [
    "For this assignment, you will refer to the textbook to solve the practice exercises. **Use Python to answer any coding problems (not R, even if indicated in your textbook).** Use Jupyter Notebook, Google Colab, or a similar software program to complete your assignment. Submit your answers as a **PDF or HTML** file. As a best practice, always label your axes and provide titles for any graphs generated on this assignment. Round all quantitative answers to 2 decimal places."
   ]
  },
  {
   "cell_type": "markdown",
   "metadata": {},
   "source": [
    "## Problem # 4.1."
   ]
  },
  {
   "cell_type": "markdown",
   "metadata": {},
   "source": [
    "For a point estimate of the mean of a population that is assumed to have a normal distribution,\n",
    "a data scientist decides to use the average of the sample lower and upper quartiles for the $n = 100$\n",
    "observations, since unlike the sample mean $\\bar{Y}$, the quartiles are not affected by outliers. Evaluate\n",
    "the precision of this estimator compared to $\\bar{Y}$ by randomly generating 100,000 samples of size\n",
    "100 each from a $N(0, 1)$ distribution and comparing the standard deviation of the 100,000\n",
    "estimates with the theoretical standard error of $\\bar{Y}$."
   ]
  },
  {
   "cell_type": "markdown",
   "metadata": {},
   "source": [
    "`Your answer goes here`"
   ]
  },
  {
   "cell_type": "code",
   "execution_count": null,
   "metadata": {},
   "outputs": [],
   "source": []
  },
  {
   "cell_type": "markdown",
   "metadata": {},
   "source": [
    "## Problem # 4.2."
   ]
  },
  {
   "cell_type": "markdown",
   "metadata": {},
   "source": [
    "For a sequence of observations of a binary random variable, you observe the geometric random\n",
    "variable (Section 2.2.2) outcome of the first success on observation number $y = 3$. Find and plot\n",
    "the likelihood function."
   ]
  },
  {
   "cell_type": "markdown",
   "metadata": {},
   "source": [
    "`our answer goes here`"
   ]
  },
  {
   "cell_type": "code",
   "execution_count": null,
   "metadata": {},
   "outputs": [],
   "source": []
  },
  {
   "cell_type": "markdown",
   "metadata": {},
   "source": [
    "## Problem # 4.4."
   ]
  },
  {
   "cell_type": "markdown",
   "metadata": {},
   "source": [
    "For the `Students` data file (Exercise 1.2 in Chapter 1) and corresponding population, find the\n",
    "ML estimate of the population proportion believing in life after death. Construct a Wald 95%\n",
    "confidence interval, using its formula (4.8). Interpret."
   ]
  },
  {
   "cell_type": "markdown",
   "metadata": {},
   "source": [
    "`Your answer goes here`"
   ]
  },
  {
   "cell_type": "markdown",
   "metadata": {},
   "source": []
  },
  {
   "cell_type": "markdown",
   "metadata": {},
   "source": [
    "## Problem # 4.5. "
   ]
  },
  {
   "cell_type": "markdown",
   "metadata": {},
   "source": [
    "The General Social Survey has asked respondents, “Do you think the use of marijuana should\n",
    "be made legal or not?” View results at the most recent [cumulative datafile](https://sda.berkeley.edu/sdaweb/analysis/exec?formid=tbf&sdaprog=tables&dataset=gss22rel2&sec508=false&row=grass&column=year&weightlist=%23%23none&columnpct=on&design=complex&cflevel=95&weightedn=on&color=on&ch_type=stackedbar&ch_color=yes&ch_width=600&ch_height=400&ch_orientation=vertical&ch_effects=use2D&decpcts=1&decse=1&decdeft=3&decwn=1&decstats=2&csvformat=no&csvfilename=tables.csv) by entering the variables GRASS and YEAR."
   ]
  },
  {
   "cell_type": "markdown",
   "metadata": {},
   "source": [
    "(a) Describe any trend you see since 1973 in the percentage favoring legalization.   \n",
    "(b) In the 2018 survey, 938 of 1447 were in favor of legalization. Use a Wald or score confidence\n",
    "interval to determine if this provides sufficient evidence to conclude whether a majority\n",
    "or a minority of the population support legalization."
   ]
  },
  {
   "cell_type": "markdown",
   "metadata": {},
   "source": [
    "`(a) Your answer goes here`"
   ]
  },
  {
   "cell_type": "code",
   "execution_count": null,
   "metadata": {},
   "outputs": [],
   "source": []
  },
  {
   "cell_type": "markdown",
   "metadata": {},
   "source": [
    "`(b) Your answer goes here`"
   ]
  },
  {
   "cell_type": "code",
   "execution_count": null,
   "metadata": {},
   "outputs": [],
   "source": []
  },
  {
   "cell_type": "markdown",
   "metadata": {},
   "source": [
    "## Problem # 4.7."
   ]
  },
  {
   "cell_type": "markdown",
   "metadata": {},
   "source": [
    "A social scientist wanted to estimate the proportion of school children in Boston who live in\n",
    "a single-parent family. She decided to use a sample size such that, with probability 0.95, the\n",
    "error would not exceed 0.05. How large a sample size should she use, if she has no idea of the\n",
    "size of that proportion?"
   ]
  },
  {
   "cell_type": "markdown",
   "metadata": {},
   "source": [
    "`Your answer goes here`"
   ]
  },
  {
   "cell_type": "markdown",
   "metadata": {},
   "source": []
  },
  {
   "cell_type": "markdown",
   "metadata": {},
   "source": [
    "## Problem # 4.11."
   ]
  },
  {
   "cell_type": "markdown",
   "metadata": {},
   "source": [
    "The observations on number of hours of daily TV watching for the 10 subjects in the 2018 GSS\n",
    "who identified themselves as Islamic were 0, 0, 1, 1, 1, 2, 2, 3, 3, 4."
   ]
  },
  {
   "cell_type": "markdown",
   "metadata": {},
   "source": [
    "(a)  Construct and interpret a 95% confidence interval for the population mean.\n",
    "(b)  Suppose the observation of 4 was incorrectly recorded as 24. What would you obtain for\n",
    "the 95% confidence interval? What does this suggest about potential effects of outliers on\n",
    "confidence intervals for means?"
   ]
  },
  {
   "cell_type": "markdown",
   "metadata": {},
   "source": [
    "`(a) Your answer goes here`"
   ]
  },
  {
   "cell_type": "code",
   "execution_count": null,
   "metadata": {},
   "outputs": [],
   "source": []
  },
  {
   "cell_type": "markdown",
   "metadata": {},
   "source": [
    "`(b) Your answer goes here`"
   ]
  },
  {
   "cell_type": "code",
   "execution_count": null,
   "metadata": {},
   "outputs": [],
   "source": []
  },
  {
   "cell_type": "markdown",
   "metadata": {},
   "source": [
    "## Problem # 4.14."
   ]
  },
  {
   "cell_type": "markdown",
   "metadata": {},
   "source": [
    "Using the Students data file, for the corresponding population, construct a 95% confidence interval **(a)** for the mean weekly number of hours spent watching TV; **(b)** to compare females and\n",
    "males on the mean weekly number of hours spent watching TV. In each case, state assumptions,\n",
    "including the practical importance of each, and interpret results."
   ]
  },
  {
   "cell_type": "markdown",
   "metadata": {},
   "source": [
    "`Your answer goes here`"
   ]
  },
  {
   "cell_type": "code",
   "execution_count": null,
   "metadata": {},
   "outputs": [],
   "source": []
  },
  {
   "cell_type": "markdown",
   "metadata": {},
   "source": [
    "## Problem # 4.15."
   ]
  },
  {
   "cell_type": "markdown",
   "metadata": {},
   "source": [
    "In the 2018 General Social Survey, when asked whether they believed in life after death, 1017\n",
    "of 1178 females said yes, and 703 of 945 males said *yes*. Construct 95% confidence intervals\n",
    "for the population proportions of females and males that believe in life after death and for the\n",
    "difference between them. Interpret."
   ]
  },
  {
   "cell_type": "markdown",
   "metadata": {},
   "source": [
    "`Your answer goes here`"
   ]
  },
  {
   "cell_type": "code",
   "execution_count": null,
   "metadata": {},
   "outputs": [],
   "source": []
  },
  {
   "cell_type": "markdown",
   "metadata": {},
   "source": [
    "## Problem # 4.23."
   ]
  },
  {
   "cell_type": "markdown",
   "metadata": {},
   "source": [
    "You want to estimate the proportion of students at your school who answer *yes* when asked\n",
    "whether governments should do more to address global warming. In a random sample of 10\n",
    "students, every student says *yes*. Give a point estimate of the probability that the next student\n",
    "interviewed will answer *yes*, if you use **(a)** ML estimation, **(b)** Bayesian estimation with a\n",
    "uniform prior distribution."
   ]
  },
  {
   "cell_type": "markdown",
   "metadata": {},
   "source": [
    "`Your answer goes here`"
   ]
  },
  {
   "cell_type": "code",
   "execution_count": null,
   "metadata": {},
   "outputs": [],
   "source": []
  },
  {
   "cell_type": "markdown",
   "metadata": {},
   "source": [
    "## Problem # 4.31."
   ]
  },
  {
   "cell_type": "markdown",
   "metadata": {},
   "source": [
    "The `Houses` data file at the book’s website lists, for 100 home sales in Gainesville, Florida,\n",
    "several variables, including the selling price in thousands of dollars and whether the house\n",
    "is new (1 = yes, 0 = no). Prepare a short report in which, stating all assumptions including\n",
    "the relative importance of each, you conduct descriptive and inferential statistical analyses to\n",
    "compare the selling prices for new and older homes."
   ]
  },
  {
   "cell_type": "markdown",
   "metadata": {},
   "source": [
    "`Your answer goes here`"
   ]
  },
  {
   "cell_type": "code",
   "execution_count": null,
   "metadata": {},
   "outputs": [],
   "source": []
  }
 ],
 "metadata": {
  "kernelspec": {
   "display_name": "Python 3",
   "language": "python",
   "name": "python3"
  },
  "language_info": {
   "codemirror_mode": {
    "name": "ipython",
    "version": 3
   },
   "file_extension": ".py",
   "mimetype": "text/x-python",
   "name": "python",
   "nbconvert_exporter": "python",
   "pygments_lexer": "ipython3",
   "version": "3.8.3"
  }
 },
 "nbformat": 4,
 "nbformat_minor": 4
}
